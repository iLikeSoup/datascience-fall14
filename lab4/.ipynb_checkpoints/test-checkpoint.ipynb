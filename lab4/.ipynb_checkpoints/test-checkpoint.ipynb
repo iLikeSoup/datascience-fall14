{
 "metadata": {
  "name": ""
 },
 "nbformat": 3,
 "nbformat_minor": 0,
 "worksheets": [
  {
   "cells": [
    {
     "cell_type": "code",
     "collapsed": false,
     "input": [
      "import pandas as pd\n",
      "\n",
      "left1 = pd.DataFrame({'value': range(6)}, index=['a', 'b', 'a', 'a', 'b', 'c'])\n",
      "right1 = pd.DataFrame({'group_val': [3.5, 7]}, index=['a', 'b'])"
     ],
     "language": "python",
     "metadata": {},
     "outputs": [],
     "prompt_number": 3
    },
    {
     "cell_type": "code",
     "collapsed": false,
     "input": [
      "s1 = pd.Series([0, 1], index=['a', 'b'])\n",
      "s2 = pd.Series([2, 3, 4], index=['c', 'd', 'e'])\n",
      "s3 = pd.Series([5, 6], index=['f', 'g'])"
     ],
     "language": "python",
     "metadata": {},
     "outputs": [],
     "prompt_number": 4
    },
    {
     "cell_type": "code",
     "collapsed": false,
     "input": [
      "s4 = pd.concat([s1 * 5, s3])\n",
      "s4"
     ],
     "language": "python",
     "metadata": {},
     "outputs": [
      {
       "metadata": {},
       "output_type": "pyout",
       "prompt_number": 5,
       "text": [
        "a    0\n",
        "b    5\n",
        "f    5\n",
        "g    6\n",
        "dtype: int64"
       ]
      }
     ],
     "prompt_number": 5
    },
    {
     "cell_type": "code",
     "collapsed": false,
     "input": [
      "s1"
     ],
     "language": "python",
     "metadata": {},
     "outputs": [
      {
       "metadata": {},
       "output_type": "pyout",
       "prompt_number": 6,
       "text": [
        "a    0\n",
        "b    1\n",
        "dtype: int64"
       ]
      }
     ],
     "prompt_number": 6
    },
    {
     "cell_type": "code",
     "collapsed": false,
     "input": [
      "s3"
     ],
     "language": "python",
     "metadata": {},
     "outputs": [
      {
       "metadata": {},
       "output_type": "pyout",
       "prompt_number": 7,
       "text": [
        "f    5\n",
        "g    6\n",
        "dtype: int64"
       ]
      }
     ],
     "prompt_number": 7
    },
    {
     "cell_type": "code",
     "collapsed": false,
     "input": [
      "import numpy as np"
     ],
     "language": "python",
     "metadata": {},
     "outputs": [],
     "prompt_number": 8
    },
    {
     "cell_type": "code",
     "collapsed": false,
     "input": [
      "data = pd.DataFrame(np.arange(6).reshape((2, 3)), index=pd.Index(['Ohio', 'Colorado'], name='state'), columns=pd.Index(['one', 'two', 'three'], name='number'))"
     ],
     "language": "python",
     "metadata": {},
     "outputs": [],
     "prompt_number": 9
    },
    {
     "cell_type": "code",
     "collapsed": false,
     "input": [
      "data"
     ],
     "language": "python",
     "metadata": {},
     "outputs": [
      {
       "html": [
        "<div style=\"max-height:1000px;max-width:1500px;overflow:auto;\">\n",
        "<table border=\"1\" class=\"dataframe\">\n",
        "  <thead>\n",
        "    <tr style=\"text-align: right;\">\n",
        "      <th>number</th>\n",
        "      <th>one</th>\n",
        "      <th>two</th>\n",
        "      <th>three</th>\n",
        "    </tr>\n",
        "    <tr>\n",
        "      <th>state</th>\n",
        "      <th></th>\n",
        "      <th></th>\n",
        "      <th></th>\n",
        "    </tr>\n",
        "  </thead>\n",
        "  <tbody>\n",
        "    <tr>\n",
        "      <th>Ohio</th>\n",
        "      <td> 0</td>\n",
        "      <td> 1</td>\n",
        "      <td> 2</td>\n",
        "    </tr>\n",
        "    <tr>\n",
        "      <th>Colorado</th>\n",
        "      <td> 3</td>\n",
        "      <td> 4</td>\n",
        "      <td> 5</td>\n",
        "    </tr>\n",
        "  </tbody>\n",
        "</table>\n",
        "<p>2 rows \u00d7 3 columns</p>\n",
        "</div>"
       ],
       "metadata": {},
       "output_type": "pyout",
       "prompt_number": 10,
       "text": [
        "number    one  two  three\n",
        "state                    \n",
        "Ohio        0    1      2\n",
        "Colorado    3    4      5\n",
        "\n",
        "[2 rows x 3 columns]"
       ]
      }
     ],
     "prompt_number": 10
    },
    {
     "cell_type": "code",
     "collapsed": false,
     "input": [
      "import re"
     ],
     "language": "python",
     "metadata": {},
     "outputs": [],
     "prompt_number": 11
    },
    {
     "cell_type": "code",
     "collapsed": false,
     "input": [
      "with open('cmsc.txt', 'r') as f:\n",
      "    text = f.read()\n",
      "classes = re.split('CMSC[\\d]{3}', text)\n",
      "del classes[0]"
     ],
     "language": "python",
     "metadata": {},
     "outputs": [],
     "prompt_number": 12
    },
    {
     "cell_type": "code",
     "collapsed": false,
     "input": [
      "compile_courseNum = re.compile('CMSC[\\d]{3}')\n",
      "compile_sectionNum = re.compile('\\n([\\d]{4})')\n",
      "compile_instructor = re.compile('\\n((?:[A-Za-z-.:]+)(?: [A-Za-z-]+)+)')\n",
      "compile_seats_open_waitlist = re.compile('Seats \\(Total: ([\\d]{1,3}), Open: ([\\d]{1,3}), Waitlist: ([\\d]{1,3})\\)')\n",
      "compile_days_time = re.compile('\\n([MWFTuh]+) ([\\d]{1,2}:[\\d]{1,2}(?:a|p)m - [\\d]{1,2}:[\\d]{1,2}(?:a|p)m)')\n",
      "compile_building_room = re.compile('\\n([A-Z]{3})  ([\\d]{4})')\n",
      "\n",
      "courseNum = compile_courseNum.findall(text)\n",
      "length = len(courseNum)\n",
      "df = []\n",
      "for i in range(length):\n",
      "    sectionNum = compile_sectionNum.findall(classes[i])\n",
      "    instructor = compile_instructor.findall(classes[i])\n",
      "    seats_open_waitlist = compile_seats_open_waitlist.findall(classes[i])\n",
      "    days_time = compile_days_time.findall(classes[i])\n",
      "    building_room = compile_building_room.findall(classes[i])\n",
      "    numRows = len(sectionNum) # length will be the same for any of the above (within the for loop)\n",
      "    df_courseNum = pd.DataFrame({'Course No.': courseNum[i]}, index=[str(x) for x in range(numRows)])\n",
      "    df_sectionNum = pd.DataFrame({'Section No.': sectionNum}, index=[str(x) for x in range(numRows)])\n",
      "    df_instructor = pd.DataFrame({'Instructor': instructor}, index=[str(x) for x in range(numRows)])\n",
      "    df_seats = pd.DataFrame({'Seats': [x[0] for x in seats_open_waitlist]}, index=[str(x) for x in range(numRows)])\n",
      "    df_open = pd.DataFrame({'Open': [x[1] for x in seats_open_waitlist]}, index=[str(x) for x in range(numRows)])\n",
      "    df_waitlist = pd.DataFrame({'Waitlist': [x[2] for x in seats_open_waitlist]}, index=[str(x) for x in range(numRows)])\n",
      "    df_days = pd.DataFrame({'Days': [x[0] for x in days_time]}, index=[str(x) for x in range(numRows)])\n",
      "    df_time = pd.DataFrame({'Time': [x[1] for x in days_time]}, index=[str(x) for x in range(numRows)])\n",
      "    df_building = pd.DataFrame({'Building': [x[0] for x in building_room]}, index=[str(x) for x in range(numRows)])\n",
      "    df_room = pd.DataFrame({'Room': [x[1] for x in building_room]}, index=[str(x) for x in range(numRows)])\n",
      "    df.append(df_courseNum.join([df_sectionNum, df_instructor, df_seats, df_open, df_waitlist, df_days, df_time, df_building, df_room], \n",
      "                                how='outer'))\n",
      "table = pd.concat([df[x] for x in range(length)], keys=[x for x in range(length)])\n",
      "table.head()"
     ],
     "language": "python",
     "metadata": {},
     "outputs": [
      {
       "html": [
        "<div style=\"max-height:1000px;max-width:1500px;overflow:auto;\">\n",
        "<table border=\"1\" class=\"dataframe\">\n",
        "  <thead>\n",
        "    <tr style=\"text-align: right;\">\n",
        "      <th></th>\n",
        "      <th></th>\n",
        "      <th>Course No.</th>\n",
        "      <th>Section No.</th>\n",
        "      <th>Instructor</th>\n",
        "      <th>Seats</th>\n",
        "      <th>Open</th>\n",
        "      <th>Waitlist</th>\n",
        "      <th>Days</th>\n",
        "      <th>Time</th>\n",
        "      <th>Building</th>\n",
        "      <th>Room</th>\n",
        "    </tr>\n",
        "  </thead>\n",
        "  <tbody>\n",
        "    <tr>\n",
        "      <th>0</th>\n",
        "      <th>0</th>\n",
        "      <td> CMSC100</td>\n",
        "      <td> 0101</td>\n",
        "      <td> Charles Kassir</td>\n",
        "      <td> 45</td>\n",
        "      <td> 4</td>\n",
        "      <td> 0</td>\n",
        "      <td>    M</td>\n",
        "      <td>  4:00pm - 4:50pm</td>\n",
        "      <td> CSI</td>\n",
        "      <td> 2117</td>\n",
        "    </tr>\n",
        "    <tr>\n",
        "      <th>1</th>\n",
        "      <th>0</th>\n",
        "      <td> CMSC106</td>\n",
        "      <td> 0101</td>\n",
        "      <td>    Jianwu Wang</td>\n",
        "      <td> 45</td>\n",
        "      <td> 0</td>\n",
        "      <td> 5</td>\n",
        "      <td> TuTh</td>\n",
        "      <td> 9:30am - 10:45am</td>\n",
        "      <td> CSI</td>\n",
        "      <td> 2117</td>\n",
        "    </tr>\n",
        "    <tr>\n",
        "      <th rowspan=\"3\" valign=\"top\">2</th>\n",
        "      <th>0</th>\n",
        "      <td> CMSC131</td>\n",
        "      <td> 0101</td>\n",
        "      <td>     Evan Golub</td>\n",
        "      <td> 31</td>\n",
        "      <td> 0</td>\n",
        "      <td> 0</td>\n",
        "      <td>  MWF</td>\n",
        "      <td>  2:00pm - 2:50pm</td>\n",
        "      <td> CSI</td>\n",
        "      <td> 1115</td>\n",
        "    </tr>\n",
        "    <tr>\n",
        "      <th>1</th>\n",
        "      <td> CMSC131</td>\n",
        "      <td> 0102</td>\n",
        "      <td>     Evan Golub</td>\n",
        "      <td> 31</td>\n",
        "      <td> 0</td>\n",
        "      <td> 0</td>\n",
        "      <td>  MWF</td>\n",
        "      <td>  2:00pm - 2:50pm</td>\n",
        "      <td> CSI</td>\n",
        "      <td> 1115</td>\n",
        "    </tr>\n",
        "    <tr>\n",
        "      <th>2</th>\n",
        "      <td> CMSC131</td>\n",
        "      <td> 0103</td>\n",
        "      <td>     Evan Golub</td>\n",
        "      <td> 31</td>\n",
        "      <td> 1</td>\n",
        "      <td> 0</td>\n",
        "      <td>  MWF</td>\n",
        "      <td>  2:00pm - 2:50pm</td>\n",
        "      <td> CSI</td>\n",
        "      <td> 1115</td>\n",
        "    </tr>\n",
        "  </tbody>\n",
        "</table>\n",
        "<p>5 rows \u00d7 10 columns</p>\n",
        "</div>"
       ],
       "metadata": {},
       "output_type": "pyout",
       "prompt_number": 13,
       "text": [
        "    Course No. Section No.      Instructor Seats Open Waitlist  Days  \\\n",
        "0 0    CMSC100        0101  Charles Kassir    45    4        0     M   \n",
        "1 0    CMSC106        0101     Jianwu Wang    45    0        5  TuTh   \n",
        "2 0    CMSC131        0101      Evan Golub    31    0        0   MWF   \n",
        "  1    CMSC131        0102      Evan Golub    31    0        0   MWF   \n",
        "  2    CMSC131        0103      Evan Golub    31    1        0   MWF   \n",
        "\n",
        "                 Time Building  Room  \n",
        "0 0   4:00pm - 4:50pm      CSI  2117  \n",
        "1 0  9:30am - 10:45am      CSI  2117  \n",
        "2 0   2:00pm - 2:50pm      CSI  1115  \n",
        "  1   2:00pm - 2:50pm      CSI  1115  \n",
        "  2   2:00pm - 2:50pm      CSI  1115  \n",
        "\n",
        "[5 rows x 10 columns]"
       ]
      }
     ],
     "prompt_number": 13
    },
    {
     "cell_type": "code",
     "collapsed": false,
     "input": [
      "with open('worldcup.txt', 'r') as f:\n",
      "    inp = f.read()\n",
      "text = re.split('[A-Z]{3}\\}', inp)\n",
      "del text[0] # deletes extraneous part of text file"
     ],
     "language": "python",
     "metadata": {},
     "outputs": [],
     "prompt_number": 38
    },
    {
     "cell_type": "code",
     "collapsed": false,
     "input": [
      "length = len(text)\n",
      "coun = re.findall('([A-Z]{3})\\}', inp)\n",
      "comp_num = re.compile('\\|([\\d]) \\(\\[\\[')\n",
      "comp_years = re.compile('\\|([\\d]{4})\\]')\n",
      "\n",
      "#for i in range(length):\n",
      "for i in range(1):\n",
      "    #print text[i]\n",
      "    num = comp_num.findall(text[i])\n",
      "    num = [int(x) for x in num]\n",
      "    max_ind = max([x for x in num])    \n",
      "    indices = [num[j] + sum([x for x in num[:j]]) for j in range(len(num))] # one-liner, but not very readable...\n",
      "    years = comp_years.findall(text[i])\n",
      "    first = years[0:indices[0]]\n",
      "    second = years[indices[0]:indices[1]]\n",
      "    third = years[indices[1]:num[2]]\n",
      "    fourth = years[num[2]:num[3]]\n",
      "    \n",
      "    print num\n",
      "    print years\n",
      "    print first\n",
      "    print second\n",
      "    print third\n",
      "    print fourth\n",
      "    \n",
      "    my_ind = [str(x) for x in range(max_ind)]\n",
      "    df_coun = pd.DataFrame({'Country': coun[i]}, index=my_ind)\n",
      "    df_first = pd.DataFrame({'Country': coun[i]}, index=my_ind)\n",
      "df_coun"
     ],
     "language": "python",
     "metadata": {},
     "outputs": [
      {
       "output_type": "stream",
       "stream": "stdout",
       "text": [
        "[5, 7, 9, 11]\n",
        "['1958', '1962', '1970', '1994', '2002', '1950', '1998', '1938', '1978', '1974', '2014']\n",
        "['1958', '1962', '1970', '1994', '2002']\n",
        "['1950', '1998']\n",
        "['1938', '1978']\n",
        "['1974', '2014']\n"
       ]
      },
      {
       "html": [
        "<div style=\"max-height:1000px;max-width:1500px;overflow:auto;\">\n",
        "<table border=\"1\" class=\"dataframe\">\n",
        "  <thead>\n",
        "    <tr style=\"text-align: right;\">\n",
        "      <th></th>\n",
        "      <th>Country</th>\n",
        "    </tr>\n",
        "  </thead>\n",
        "  <tbody>\n",
        "    <tr>\n",
        "      <th>0</th>\n",
        "      <td> BRA</td>\n",
        "    </tr>\n",
        "    <tr>\n",
        "      <th>1</th>\n",
        "      <td> BRA</td>\n",
        "    </tr>\n",
        "    <tr>\n",
        "      <th>2</th>\n",
        "      <td> BRA</td>\n",
        "    </tr>\n",
        "    <tr>\n",
        "      <th>3</th>\n",
        "      <td> BRA</td>\n",
        "    </tr>\n",
        "    <tr>\n",
        "      <th>4</th>\n",
        "      <td> BRA</td>\n",
        "    </tr>\n",
        "  </tbody>\n",
        "</table>\n",
        "<p>5 rows \u00d7 1 columns</p>\n",
        "</div>"
       ],
       "metadata": {},
       "output_type": "pyout",
       "prompt_number": 65,
       "text": [
        "  Country\n",
        "0     BRA\n",
        "1     BRA\n",
        "2     BRA\n",
        "3     BRA\n",
        "4     BRA\n",
        "\n",
        "[5 rows x 1 columns]"
       ]
      }
     ],
     "prompt_number": 65
    },
    {
     "cell_type": "code",
     "collapsed": false,
     "input": [],
     "language": "python",
     "metadata": {},
     "outputs": []
    }
   ],
   "metadata": {}
  }
 ]
}