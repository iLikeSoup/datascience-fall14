{
 "metadata": {
  "name": ""
 },
 "nbformat": 3,
 "nbformat_minor": 0,
 "worksheets": [
  {
   "cells": [
    {
     "cell_type": "code",
     "collapsed": false,
     "input": [
      "# Import pandas and numpy\n",
      "import pandas as pd\n",
      "import numpy as np\n",
      "\n",
      "# Set some Pandas options\n",
      "pd.set_option('display.notebook_repr_html', False)\n",
      "pd.set_option('display.max_columns', 20)\n",
      "pd.set_option('display.max_rows', 25)"
     ],
     "language": "python",
     "metadata": {},
     "outputs": [],
     "prompt_number": 1
    },
    {
     "cell_type": "code",
     "collapsed": false,
     "input": [
      "cdystonia = pd.read_csv(\"data/cdystonia.csv\", index_col=None)\n",
      "cdystonia['twstrs'] = cdystonia['twstrs'].astype(np.float64)\n",
      "cdystonia.head()"
     ],
     "language": "python",
     "metadata": {},
     "outputs": [
      {
       "metadata": {},
       "output_type": "pyout",
       "prompt_number": 2,
       "text": [
        "   patient  obs  week  site  id  treat  age sex  twstrs\n",
        "0        1    1     0     1   1  5000U   65   F      32\n",
        "1        1    2     2     1   1  5000U   65   F      30\n",
        "2        1    3     4     1   1  5000U   65   F      24\n",
        "3        1    4     8     1   1  5000U   65   F      37\n",
        "4        1    5    12     1   1  5000U   65   F      39\n",
        "\n",
        "[5 rows x 9 columns]"
       ]
      }
     ],
     "prompt_number": 2
    },
    {
     "cell_type": "code",
     "collapsed": false,
     "input": [
      "cdystonia.treat.value_counts()"
     ],
     "language": "python",
     "metadata": {},
     "outputs": [
      {
       "metadata": {},
       "output_type": "pyout",
       "prompt_number": 3,
       "text": [
        "10000U     213\n",
        "5000U      211\n",
        "Placebo    207\n",
        "dtype: int64"
       ]
      }
     ],
     "prompt_number": 3
    },
    {
     "cell_type": "code",
     "collapsed": false,
     "input": [
      "treat_map = {'Placebo': 0, '5000U': 1, '10000U': 2}\n",
      "replace_map = {'treat' : treat_map}"
     ],
     "language": "python",
     "metadata": {},
     "outputs": [],
     "prompt_number": 11
    },
    {
     "cell_type": "code",
     "collapsed": false,
     "input": [
      "a = pd.DataFrame.replace(cdystonia, treat_map)\n",
      "cdystonia['treatment'] = a['treat']"
     ],
     "language": "python",
     "metadata": {},
     "outputs": [],
     "prompt_number": 15
    },
    {
     "cell_type": "code",
     "collapsed": false,
     "input": [
      "cdystonia.head()"
     ],
     "language": "python",
     "metadata": {},
     "outputs": [
      {
       "metadata": {},
       "output_type": "pyout",
       "prompt_number": 16,
       "text": [
        "   patient  obs  week  site  id  treat  age sex  twstrs  treatment\n",
        "0        1    1     0     1   1  5000U   65   F      32          1\n",
        "1        1    2     2     1   1  5000U   65   F      30          1\n",
        "2        1    3     4     1   1  5000U   65   F      24          1\n",
        "3        1    4     8     1   1  5000U   65   F      37          1\n",
        "4        1    5    12     1   1  5000U   65   F      39          1\n",
        "\n",
        "[5 rows x 10 columns]"
       ]
      }
     ],
     "prompt_number": 16
    },
    {
     "cell_type": "code",
     "collapsed": false,
     "input": [
      "cutOutput = pd.cut(cdystonia.age, [20,40,60,80,90], True, ['young', 'middle-aged', 'old', 'ancient'])\n",
      "cdystonia['ageGroup'] = cutOutput\n",
      "cdystonia.head()"
     ],
     "language": "python",
     "metadata": {},
     "outputs": [
      {
       "metadata": {},
       "output_type": "pyout",
       "prompt_number": 21,
       "text": [
        "   patient  obs  week  site  id  treat  age sex  twstrs  treatment ageGroup\n",
        "0        1    1     0     1   1  5000U   65   F      32          1      old\n",
        "1        1    2     2     1   1  5000U   65   F      30          1      old\n",
        "2        1    3     4     1   1  5000U   65   F      24          1      old\n",
        "3        1    4     8     1   1  5000U   65   F      37          1      old\n",
        "4        1    5    12     1   1  5000U   65   F      39          1      old\n",
        "\n",
        "[5 rows x 11 columns]"
       ]
      }
     ],
     "prompt_number": 21
    },
    {
     "cell_type": "code",
     "collapsed": false,
     "input": [
      "cdystonia_group = cdystonia.groupby('patient')"
     ],
     "language": "python",
     "metadata": {},
     "outputs": [],
     "prompt_number": 63
    },
    {
     "cell_type": "code",
     "collapsed": false,
     "input": [
      "patientMeanTwstrs = cdystonia_group['twstrs'].agg(np.mean)\n",
      "patientMeanTwstrs.head()"
     ],
     "language": "python",
     "metadata": {},
     "outputs": [
      {
       "metadata": {},
       "output_type": "pyout",
       "prompt_number": 44,
       "text": [
        "patient\n",
        "1          33.000000\n",
        "2          47.666667\n",
        "3          30.500000\n",
        "4          60.000000\n",
        "5          46.166667\n",
        "Name: twstrs, dtype: float64"
       ]
      }
     ],
     "prompt_number": 44
    },
    {
     "cell_type": "code",
     "collapsed": false,
     "input": [
      "zscore = lambda x : (x - x.mean())/x.std()\n",
      "normalizedTWSTRS = cdystonia_group.transform(zscore)['twstrs']\n",
      "normalizedTWSTRS.head()"
     ],
     "language": "python",
     "metadata": {},
     "outputs": [
      {
       "metadata": {},
       "output_type": "pyout",
       "prompt_number": 66,
       "text": [
        "0   -0.181369\n",
        "1   -0.544107\n",
        "2   -1.632322\n",
        "3    0.725476\n",
        "4    1.088214\n",
        "Name: twstrs, dtype: float64"
       ]
      }
     ],
     "prompt_number": 66
    },
    {
     "cell_type": "code",
     "collapsed": false,
     "input": [],
     "language": "python",
     "metadata": {},
     "outputs": []
    }
   ],
   "metadata": {}
  }
 ]
}