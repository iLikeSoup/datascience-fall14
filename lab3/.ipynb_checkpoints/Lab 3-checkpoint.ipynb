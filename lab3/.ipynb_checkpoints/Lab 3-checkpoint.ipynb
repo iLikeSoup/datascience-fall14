{
 "metadata": {
  "name": ""
 },
 "nbformat": 3,
 "nbformat_minor": 0,
 "worksheets": [
  {
   "cells": [
    {
     "cell_type": "code",
     "collapsed": false,
     "input": [
      "# Import pandas and numpy\n",
      "import pandas as pd\n",
      "import numpy as np\n",
      "\n",
      "# Set some Pandas options\n",
      "pd.set_option('display.notebook_repr_html', False)\n",
      "pd.set_option('display.max_columns', 20)\n",
      "pd.set_option('display.max_rows', 25)\n",
      "\n",
      "cdystonia = pd.read_csv(\"data/cdystonia.csv\", index_col=None)\n",
      "cdystonia['twstrs'] = cdystonia['twstrs'].astype(np.float64)\n",
      "treat_map = {'Placebo': 0, '5000U': 1, '10000U': 2}"
     ],
     "language": "python",
     "metadata": {},
     "outputs": [],
     "prompt_number": 1
    },
    {
     "cell_type": "code",
     "collapsed": false,
     "input": [
      "'''\n",
      "Exercise: Use the replace command of pandas (documentation for replace command) on the treat column \n",
      "to replace the string values with the integer values of the map. Store the result of this transformation \n",
      "into a new column named \"treatment\" in the original dataframe.\n",
      "'''\n",
      "\n",
      "replace = pd.DataFrame.replace(cdystonia, treat_map)\n",
      "cdystonia['treatment'] = replace['treat']\n",
      "cdystonia.head()"
     ],
     "language": "python",
     "metadata": {},
     "outputs": [
      {
       "metadata": {},
       "output_type": "pyout",
       "prompt_number": 3,
       "text": [
        "   patient  obs  week  site  id  treat  age sex  twstrs  treatment\n",
        "0        1    1     0     1   1  5000U   65   F      32          1\n",
        "1        1    2     2     1   1  5000U   65   F      30          1\n",
        "2        1    3     4     1   1  5000U   65   F      24          1\n",
        "3        1    4     8     1   1  5000U   65   F      37          1\n",
        "4        1    5    12     1   1  5000U   65   F      39          1\n",
        "\n",
        "[5 rows x 10 columns]"
       ]
      }
     ],
     "prompt_number": 3
    },
    {
     "cell_type": "code",
     "collapsed": false,
     "input": [
      "'''\n",
      "Exercise: Use the cut command to transform this data into decades, beginning with individuals in their \n",
      "20's and ending with those in their 90's. More precisely the bins should be set to [20,40,60,80,90]. After \n",
      "you perform the transformation print the first 30 entries of the transformation result.\n",
      "'''\n",
      "\n",
      "cutOutput = pd.cut(cdystonia.age, [20,40,60,80,90], True)\n",
      "cutOutput[:30]"
     ],
     "language": "python",
     "metadata": {},
     "outputs": [
      {
       "metadata": {},
       "output_type": "pyout",
       "prompt_number": 29,
       "text": [
        " (60, 80]\n",
        " (60, 80]\n",
        " (60, 80]\n",
        " (60, 80]\n",
        " (60, 80]\n",
        " (60, 80]\n",
        " (60, 80]\n",
        " (60, 80]\n",
        " (60, 80]\n",
        " (60, 80]\n",
        "...\n",
        " (40, 60]\n",
        " (40, 60]\n",
        " (40, 60]\n",
        " (60, 80]\n",
        " (60, 80]\n",
        " (60, 80]\n",
        " (60, 80]\n",
        " (60, 80]\n",
        " (60, 80]\n",
        " (40, 60]\n",
        " (40, 60]\n",
        "Levels (4): Index(['(20, 40]', '(40, 60]', '(60, 80]', '(80, 90]'], dtype=object)\n",
        "Length: 30"
       ]
      }
     ],
     "prompt_number": 29
    },
    {
     "cell_type": "code",
     "collapsed": false,
     "input": [
      "'''\n",
      "Exercise: Since the data are now ordinal, rather than numeric, we can give them labels. Use the cut command again\n",
      "with the same bins from the previous exercise but this time assign the labels 'young', 'middle-aged', 'old' and \n",
      "'ancient' to each bin respectively. After that, extend the cdystonia DataFrame to contain a new column named \"ageGroup\"\n",
      "that contains the appropriate label for each row.\n",
      "'''\n",
      "\n",
      "cutOutput = pd.cut(cdystonia.age, [20,40,60,80,90], True, ['young', 'middle-aged', 'old', 'ancient'])\n",
      "cdystonia['ageGroup'] = cutOutput\n",
      "cdystonia.head()"
     ],
     "language": "python",
     "metadata": {},
     "outputs": [
      {
       "metadata": {},
       "output_type": "pyout",
       "prompt_number": 30,
       "text": [
        "   patient  obs  week  site  id  treat  age sex  twstrs  treatment ageGroup\n",
        "0        1    1     0     1   1  5000U   65   F      32          1      old\n",
        "1        1    2     2     1   1  5000U   65   F      30          1      old\n",
        "2        1    3     4     1   1  5000U   65   F      24          1      old\n",
        "3        1    4     8     1   1  5000U   65   F      37          1      old\n",
        "4        1    5    12     1   1  5000U   65   F      39          1      old\n",
        "\n",
        "[5 rows x 11 columns]"
       ]
      }
     ],
     "prompt_number": 30
    },
    {
     "cell_type": "code",
     "collapsed": false,
     "input": [
      "'''\n",
      "Exercise: Group the cdystonia data on the 'patient' column. You need to create a new DataFrame named \n",
      "cdystonia_group containing the new data.\n",
      "'''\n",
      "\n",
      "cdystonia_group = cdystonia.groupby('patient')"
     ],
     "language": "python",
     "metadata": {},
     "outputs": [],
     "prompt_number": 31
    },
    {
     "cell_type": "code",
     "collapsed": false,
     "input": [
      "'''\n",
      "Exercise: Apply the aggregate method on cdystonia_grouped to obtain the mean value for the column 'twstrs'\n",
      "alone. You can use the method np.mean for computing the mean. Store the result in a new dataFrame named \n",
      "patientMeanTwstrs and print its head.\n",
      "'''\n",
      "\n",
      "patientMeanTwstrs = cdystonia_group['twstrs'].agg(np.mean)\n",
      "patientMeanTwstrs.head()"
     ],
     "language": "python",
     "metadata": {},
     "outputs": [
      {
       "metadata": {},
       "output_type": "pyout",
       "prompt_number": 32,
       "text": [
        "patient\n",
        "1          33.000000\n",
        "2          47.666667\n",
        "3          30.500000\n",
        "4          60.000000\n",
        "5          46.166667\n",
        "Name: twstrs, dtype: float64"
       ]
      }
     ],
     "prompt_number": 32
    },
    {
     "cell_type": "code",
     "collapsed": false,
     "input": [
      "'''\n",
      "Alternatively, we can transform the data, using a function of our choice with the transform method. You are \n",
      "required to normalize the twstrs column of cdystonia_grouped. For that you first need to define a lambda function\n",
      "that normalizes the values of a numpy array. Before proceeding, read this article on lambda functions. Also notice \n",
      "that the normalization operation corresponds to replacing each value x in the numpy array with:\n",
      "\n",
      "(x - Mean value of array)/(Standard deviation of array)\n",
      "\n",
      "You should store the normalized data to a new variable named normalizedTWSTRS and print the head.\n",
      "'''\n",
      "\n",
      "zscore = lambda x : (x - x.mean())/x.std()\n",
      "normalizedTWSTRS = cdystonia_group.transform(zscore)['twstrs']\n",
      "normalizedTWSTRS.head()"
     ],
     "language": "python",
     "metadata": {},
     "outputs": [
      {
       "metadata": {},
       "output_type": "pyout",
       "prompt_number": 33,
       "text": [
        "0   -0.181369\n",
        "1   -0.544107\n",
        "2   -1.632322\n",
        "3    0.725476\n",
        "4    1.088214\n",
        "Name: twstrs, dtype: float64"
       ]
      }
     ],
     "prompt_number": 33
    },
    {
     "cell_type": "code",
     "collapsed": false,
     "input": [],
     "language": "python",
     "metadata": {},
     "outputs": []
    }
   ],
   "metadata": {}
  }
 ]
}